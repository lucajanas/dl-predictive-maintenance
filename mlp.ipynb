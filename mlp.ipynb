{
 "cells": [
  {
   "cell_type": "markdown",
   "metadata": {
    "collapsed": true,
    "pycharm": {
     "is_executing": true
    }
   },
   "source": [
    "# Predictive Maintenance\n",
    "Data set: https://archive.ics.uci.edu/dataset/316/condition+based+maintenance+of+naval+propulsion+plants"
   ]
  },
  {
   "cell_type": "code",
   "execution_count": 2,
   "metadata": {
    "pycharm": {
     "is_executing": true
    }
   },
   "outputs": [],
   "source": [
    "import pandas as pd"
   ]
  },
  {
   "cell_type": "code",
   "execution_count": 3,
   "metadata": {},
   "outputs": [
    {
     "data": {
      "text/html": [
       "<div>\n",
       "<style scoped>\n",
       "    .dataframe tbody tr th:only-of-type {\n",
       "        vertical-align: middle;\n",
       "    }\n",
       "\n",
       "    .dataframe tbody tr th {\n",
       "        vertical-align: top;\n",
       "    }\n",
       "\n",
       "    .dataframe thead th {\n",
       "        text-align: right;\n",
       "    }\n",
       "</style>\n",
       "<table border=\"1\" class=\"dataframe\">\n",
       "  <thead>\n",
       "    <tr style=\"text-align: right;\">\n",
       "      <th></th>\n",
       "      <th>lp</th>\n",
       "      <th>v</th>\n",
       "      <th>GTT</th>\n",
       "      <th>GTn</th>\n",
       "      <th>GGn</th>\n",
       "      <th>Ts</th>\n",
       "      <th>Tp</th>\n",
       "      <th>T48</th>\n",
       "      <th>T1</th>\n",
       "      <th>T2</th>\n",
       "      <th>P48</th>\n",
       "      <th>P1</th>\n",
       "      <th>P2</th>\n",
       "      <th>Pexh</th>\n",
       "      <th>TIC</th>\n",
       "      <th>mf</th>\n",
       "      <th>kMc</th>\n",
       "      <th>kMt</th>\n",
       "    </tr>\n",
       "  </thead>\n",
       "  <tbody>\n",
       "    <tr>\n",
       "      <th>0</th>\n",
       "      <td>1.138</td>\n",
       "      <td>3</td>\n",
       "      <td>289.964</td>\n",
       "      <td>1349.489</td>\n",
       "      <td>6677.380</td>\n",
       "      <td>7.584</td>\n",
       "      <td>7.584</td>\n",
       "      <td>464.006</td>\n",
       "      <td>288</td>\n",
       "      <td>550.563</td>\n",
       "      <td>1.096</td>\n",
       "      <td>0.998</td>\n",
       "      <td>5.947</td>\n",
       "      <td>1.019</td>\n",
       "      <td>7.137</td>\n",
       "      <td>0.082</td>\n",
       "      <td>0.95</td>\n",
       "      <td>0.975</td>\n",
       "    </tr>\n",
       "    <tr>\n",
       "      <th>1</th>\n",
       "      <td>2.088</td>\n",
       "      <td>6</td>\n",
       "      <td>6960.180</td>\n",
       "      <td>1376.166</td>\n",
       "      <td>6828.469</td>\n",
       "      <td>28.204</td>\n",
       "      <td>28.204</td>\n",
       "      <td>635.401</td>\n",
       "      <td>288</td>\n",
       "      <td>581.658</td>\n",
       "      <td>1.331</td>\n",
       "      <td>0.998</td>\n",
       "      <td>7.282</td>\n",
       "      <td>1.019</td>\n",
       "      <td>10.655</td>\n",
       "      <td>0.287</td>\n",
       "      <td>0.95</td>\n",
       "      <td>0.975</td>\n",
       "    </tr>\n",
       "    <tr>\n",
       "      <th>2</th>\n",
       "      <td>3.144</td>\n",
       "      <td>9</td>\n",
       "      <td>8379.229</td>\n",
       "      <td>1386.757</td>\n",
       "      <td>7111.811</td>\n",
       "      <td>60.358</td>\n",
       "      <td>60.358</td>\n",
       "      <td>606.002</td>\n",
       "      <td>288</td>\n",
       "      <td>587.587</td>\n",
       "      <td>1.389</td>\n",
       "      <td>0.998</td>\n",
       "      <td>7.574</td>\n",
       "      <td>1.020</td>\n",
       "      <td>13.086</td>\n",
       "      <td>0.259</td>\n",
       "      <td>0.95</td>\n",
       "      <td>0.975</td>\n",
       "    </tr>\n",
       "    <tr>\n",
       "      <th>3</th>\n",
       "      <td>4.161</td>\n",
       "      <td>12</td>\n",
       "      <td>14724.395</td>\n",
       "      <td>1547.465</td>\n",
       "      <td>7792.630</td>\n",
       "      <td>113.774</td>\n",
       "      <td>113.774</td>\n",
       "      <td>661.471</td>\n",
       "      <td>288</td>\n",
       "      <td>613.851</td>\n",
       "      <td>1.658</td>\n",
       "      <td>0.998</td>\n",
       "      <td>9.007</td>\n",
       "      <td>1.022</td>\n",
       "      <td>18.109</td>\n",
       "      <td>0.358</td>\n",
       "      <td>0.95</td>\n",
       "      <td>0.975</td>\n",
       "    </tr>\n",
       "    <tr>\n",
       "      <th>4</th>\n",
       "      <td>5.140</td>\n",
       "      <td>15</td>\n",
       "      <td>21636.432</td>\n",
       "      <td>1924.313</td>\n",
       "      <td>8494.777</td>\n",
       "      <td>175.306</td>\n",
       "      <td>175.306</td>\n",
       "      <td>731.494</td>\n",
       "      <td>288</td>\n",
       "      <td>645.642</td>\n",
       "      <td>2.078</td>\n",
       "      <td>0.998</td>\n",
       "      <td>11.197</td>\n",
       "      <td>1.026</td>\n",
       "      <td>26.373</td>\n",
       "      <td>0.522</td>\n",
       "      <td>0.95</td>\n",
       "      <td>0.975</td>\n",
       "    </tr>\n",
       "  </tbody>\n",
       "</table>\n",
       "</div>"
      ],
      "text/plain": [
       "      lp   v        GTT       GTn       GGn       Ts       Tp      T48   T1  \\\n",
       "0  1.138   3    289.964  1349.489  6677.380    7.584    7.584  464.006  288   \n",
       "1  2.088   6   6960.180  1376.166  6828.469   28.204   28.204  635.401  288   \n",
       "2  3.144   9   8379.229  1386.757  7111.811   60.358   60.358  606.002  288   \n",
       "3  4.161  12  14724.395  1547.465  7792.630  113.774  113.774  661.471  288   \n",
       "4  5.140  15  21636.432  1924.313  8494.777  175.306  175.306  731.494  288   \n",
       "\n",
       "        T2    P48     P1      P2   Pexh     TIC     mf   kMc    kMt  \n",
       "0  550.563  1.096  0.998   5.947  1.019   7.137  0.082  0.95  0.975  \n",
       "1  581.658  1.331  0.998   7.282  1.019  10.655  0.287  0.95  0.975  \n",
       "2  587.587  1.389  0.998   7.574  1.020  13.086  0.259  0.95  0.975  \n",
       "3  613.851  1.658  0.998   9.007  1.022  18.109  0.358  0.95  0.975  \n",
       "4  645.642  2.078  0.998  11.197  1.026  26.373  0.522  0.95  0.975  "
      ]
     },
     "execution_count": 3,
     "metadata": {},
     "output_type": "execute_result"
    }
   ],
   "source": [
    "columns = ['lp','v','GTT','GTn','GGn','Ts','Tp','T48','T1','T2','P48','P1','P2','Pexh','TIC','mf','kMc','kMt']\n",
    "data = pd.read_csv('data/data.csv', names=columns, skiprows=1)\n",
    "\n",
    "# kMc = GT Compressor decay state coefficient, kMt = GT Turbine decay state coefficient\n",
    "data.head()"
   ]
  },
  {
   "cell_type": "code",
   "execution_count": 4,
   "metadata": {},
   "outputs": [
    {
     "data": {
      "text/plain": [
       "(11934, 18)"
      ]
     },
     "execution_count": 4,
     "metadata": {},
     "output_type": "execute_result"
    }
   ],
   "source": [
    "data.shape"
   ]
  },
  {
   "cell_type": "code",
   "execution_count": 5,
   "metadata": {},
   "outputs": [
    {
     "data": {
      "text/html": [
       "<div>\n",
       "<style scoped>\n",
       "    .dataframe tbody tr th:only-of-type {\n",
       "        vertical-align: middle;\n",
       "    }\n",
       "\n",
       "    .dataframe tbody tr th {\n",
       "        vertical-align: top;\n",
       "    }\n",
       "\n",
       "    .dataframe thead th {\n",
       "        text-align: right;\n",
       "    }\n",
       "</style>\n",
       "<table border=\"1\" class=\"dataframe\">\n",
       "  <thead>\n",
       "    <tr style=\"text-align: right;\">\n",
       "      <th></th>\n",
       "      <th>lp</th>\n",
       "      <th>v</th>\n",
       "      <th>GTT</th>\n",
       "      <th>GTn</th>\n",
       "      <th>GGn</th>\n",
       "      <th>Ts</th>\n",
       "      <th>Tp</th>\n",
       "      <th>T48</th>\n",
       "      <th>T1</th>\n",
       "      <th>T2</th>\n",
       "      <th>P48</th>\n",
       "      <th>P1</th>\n",
       "      <th>P2</th>\n",
       "      <th>Pexh</th>\n",
       "      <th>TIC</th>\n",
       "      <th>mf</th>\n",
       "      <th>kMc</th>\n",
       "      <th>kMt</th>\n",
       "    </tr>\n",
       "  </thead>\n",
       "  <tbody>\n",
       "    <tr>\n",
       "      <th>count</th>\n",
       "      <td>11934.000</td>\n",
       "      <td>11934.000</td>\n",
       "      <td>11934.000</td>\n",
       "      <td>11934.000</td>\n",
       "      <td>11934.000</td>\n",
       "      <td>11934.000</td>\n",
       "      <td>11934.000</td>\n",
       "      <td>11934.000</td>\n",
       "      <td>11934.0</td>\n",
       "      <td>11934.000</td>\n",
       "      <td>11934.000</td>\n",
       "      <td>11934.000</td>\n",
       "      <td>11934.000</td>\n",
       "      <td>11934.000</td>\n",
       "      <td>11934.000</td>\n",
       "      <td>11934.000</td>\n",
       "      <td>11934.000</td>\n",
       "      <td>11934.000</td>\n",
       "    </tr>\n",
       "    <tr>\n",
       "      <th>mean</th>\n",
       "      <td>5.167</td>\n",
       "      <td>15.000</td>\n",
       "      <td>27247.499</td>\n",
       "      <td>2136.289</td>\n",
       "      <td>8200.947</td>\n",
       "      <td>227.336</td>\n",
       "      <td>227.336</td>\n",
       "      <td>735.495</td>\n",
       "      <td>288.0</td>\n",
       "      <td>646.215</td>\n",
       "      <td>2.353</td>\n",
       "      <td>0.998</td>\n",
       "      <td>12.297</td>\n",
       "      <td>1.029</td>\n",
       "      <td>33.641</td>\n",
       "      <td>0.662</td>\n",
       "      <td>0.975</td>\n",
       "      <td>0.988</td>\n",
       "    </tr>\n",
       "    <tr>\n",
       "      <th>std</th>\n",
       "      <td>2.626</td>\n",
       "      <td>7.746</td>\n",
       "      <td>22148.613</td>\n",
       "      <td>774.084</td>\n",
       "      <td>1091.316</td>\n",
       "      <td>200.496</td>\n",
       "      <td>200.496</td>\n",
       "      <td>173.681</td>\n",
       "      <td>0.0</td>\n",
       "      <td>72.676</td>\n",
       "      <td>1.085</td>\n",
       "      <td>0.000</td>\n",
       "      <td>5.337</td>\n",
       "      <td>0.010</td>\n",
       "      <td>25.841</td>\n",
       "      <td>0.507</td>\n",
       "      <td>0.015</td>\n",
       "      <td>0.008</td>\n",
       "    </tr>\n",
       "    <tr>\n",
       "      <th>min</th>\n",
       "      <td>1.138</td>\n",
       "      <td>3.000</td>\n",
       "      <td>253.547</td>\n",
       "      <td>1307.675</td>\n",
       "      <td>6589.002</td>\n",
       "      <td>5.304</td>\n",
       "      <td>5.304</td>\n",
       "      <td>442.364</td>\n",
       "      <td>288.0</td>\n",
       "      <td>540.442</td>\n",
       "      <td>1.093</td>\n",
       "      <td>0.998</td>\n",
       "      <td>5.828</td>\n",
       "      <td>1.019</td>\n",
       "      <td>0.000</td>\n",
       "      <td>0.068</td>\n",
       "      <td>0.950</td>\n",
       "      <td>0.975</td>\n",
       "    </tr>\n",
       "    <tr>\n",
       "      <th>25%</th>\n",
       "      <td>3.144</td>\n",
       "      <td>9.000</td>\n",
       "      <td>8375.884</td>\n",
       "      <td>1386.758</td>\n",
       "      <td>7058.324</td>\n",
       "      <td>60.317</td>\n",
       "      <td>60.317</td>\n",
       "      <td>589.873</td>\n",
       "      <td>288.0</td>\n",
       "      <td>578.092</td>\n",
       "      <td>1.389</td>\n",
       "      <td>0.998</td>\n",
       "      <td>7.447</td>\n",
       "      <td>1.020</td>\n",
       "      <td>13.678</td>\n",
       "      <td>0.246</td>\n",
       "      <td>0.962</td>\n",
       "      <td>0.981</td>\n",
       "    </tr>\n",
       "    <tr>\n",
       "      <th>50%</th>\n",
       "      <td>5.140</td>\n",
       "      <td>15.000</td>\n",
       "      <td>21630.659</td>\n",
       "      <td>1924.326</td>\n",
       "      <td>8482.082</td>\n",
       "      <td>175.268</td>\n",
       "      <td>175.268</td>\n",
       "      <td>706.038</td>\n",
       "      <td>288.0</td>\n",
       "      <td>637.142</td>\n",
       "      <td>2.083</td>\n",
       "      <td>0.998</td>\n",
       "      <td>11.092</td>\n",
       "      <td>1.026</td>\n",
       "      <td>25.276</td>\n",
       "      <td>0.496</td>\n",
       "      <td>0.975</td>\n",
       "      <td>0.988</td>\n",
       "    </tr>\n",
       "    <tr>\n",
       "      <th>75%</th>\n",
       "      <td>7.148</td>\n",
       "      <td>21.000</td>\n",
       "      <td>39001.427</td>\n",
       "      <td>2678.079</td>\n",
       "      <td>9132.606</td>\n",
       "      <td>332.365</td>\n",
       "      <td>332.365</td>\n",
       "      <td>834.066</td>\n",
       "      <td>288.0</td>\n",
       "      <td>693.924</td>\n",
       "      <td>2.981</td>\n",
       "      <td>0.998</td>\n",
       "      <td>15.658</td>\n",
       "      <td>1.036</td>\n",
       "      <td>44.552</td>\n",
       "      <td>0.882</td>\n",
       "      <td>0.988</td>\n",
       "      <td>0.994</td>\n",
       "    </tr>\n",
       "    <tr>\n",
       "      <th>max</th>\n",
       "      <td>9.300</td>\n",
       "      <td>27.000</td>\n",
       "      <td>72784.872</td>\n",
       "      <td>3560.741</td>\n",
       "      <td>9797.103</td>\n",
       "      <td>645.249</td>\n",
       "      <td>645.249</td>\n",
       "      <td>1115.797</td>\n",
       "      <td>288.0</td>\n",
       "      <td>789.094</td>\n",
       "      <td>4.560</td>\n",
       "      <td>0.998</td>\n",
       "      <td>23.140</td>\n",
       "      <td>1.052</td>\n",
       "      <td>92.556</td>\n",
       "      <td>1.832</td>\n",
       "      <td>1.000</td>\n",
       "      <td>1.000</td>\n",
       "    </tr>\n",
       "  </tbody>\n",
       "</table>\n",
       "</div>"
      ],
      "text/plain": [
       "              lp          v        GTT        GTn        GGn         Ts  \\\n",
       "count  11934.000  11934.000  11934.000  11934.000  11934.000  11934.000   \n",
       "mean       5.167     15.000  27247.499   2136.289   8200.947    227.336   \n",
       "std        2.626      7.746  22148.613    774.084   1091.316    200.496   \n",
       "min        1.138      3.000    253.547   1307.675   6589.002      5.304   \n",
       "25%        3.144      9.000   8375.884   1386.758   7058.324     60.317   \n",
       "50%        5.140     15.000  21630.659   1924.326   8482.082    175.268   \n",
       "75%        7.148     21.000  39001.427   2678.079   9132.606    332.365   \n",
       "max        9.300     27.000  72784.872   3560.741   9797.103    645.249   \n",
       "\n",
       "              Tp        T48       T1         T2        P48         P1  \\\n",
       "count  11934.000  11934.000  11934.0  11934.000  11934.000  11934.000   \n",
       "mean     227.336    735.495    288.0    646.215      2.353      0.998   \n",
       "std      200.496    173.681      0.0     72.676      1.085      0.000   \n",
       "min        5.304    442.364    288.0    540.442      1.093      0.998   \n",
       "25%       60.317    589.873    288.0    578.092      1.389      0.998   \n",
       "50%      175.268    706.038    288.0    637.142      2.083      0.998   \n",
       "75%      332.365    834.066    288.0    693.924      2.981      0.998   \n",
       "max      645.249   1115.797    288.0    789.094      4.560      0.998   \n",
       "\n",
       "              P2       Pexh        TIC         mf        kMc        kMt  \n",
       "count  11934.000  11934.000  11934.000  11934.000  11934.000  11934.000  \n",
       "mean      12.297      1.029     33.641      0.662      0.975      0.988  \n",
       "std        5.337      0.010     25.841      0.507      0.015      0.008  \n",
       "min        5.828      1.019      0.000      0.068      0.950      0.975  \n",
       "25%        7.447      1.020     13.678      0.246      0.962      0.981  \n",
       "50%       11.092      1.026     25.276      0.496      0.975      0.988  \n",
       "75%       15.658      1.036     44.552      0.882      0.988      0.994  \n",
       "max       23.140      1.052     92.556      1.832      1.000      1.000  "
      ]
     },
     "execution_count": 5,
     "metadata": {},
     "output_type": "execute_result"
    }
   ],
   "source": [
    "data.describe().round(3)"
   ]
  },
  {
   "cell_type": "code",
   "execution_count": 6,
   "metadata": {},
   "outputs": [
    {
     "data": {
      "text/plain": [
       "0        0.95\n",
       "1        0.95\n",
       "2        0.95\n",
       "3        0.95\n",
       "4        0.95\n",
       "         ... \n",
       "11929    1.00\n",
       "11930    1.00\n",
       "11931    1.00\n",
       "11932    1.00\n",
       "11933    1.00\n",
       "Name: kMc, Length: 11934, dtype: float64"
      ]
     },
     "execution_count": 6,
     "metadata": {},
     "output_type": "execute_result"
    }
   ],
   "source": [
    "data.kMc"
   ]
  },
  {
   "cell_type": "code",
   "execution_count": 7,
   "metadata": {},
   "outputs": [
    {
     "data": {
      "text/plain": [
       "decay_status_kMc\n",
       "done            5850\n",
       "decaying        3510\n",
       "not decaying    2574\n",
       "Name: count, dtype: int64"
      ]
     },
     "execution_count": 7,
     "metadata": {},
     "output_type": "execute_result"
    }
   ],
   "source": [
    "import pandas as pd\n",
    "\n",
    "# Define a custom function to determine decay status\n",
    "def get_decay_status(coeff):\n",
    "    if coeff < 0.975:\n",
    "        return 'done'\n",
    "    elif 0.975 <= coeff < 0.99:\n",
    "        return 'decaying'\n",
    "    elif 0.99 <= coeff <= 1:\n",
    "        return 'not decaying'\n",
    "    else:\n",
    "        return 'unknown'  # Handle any other cases here\n",
    "\n",
    "# Apply the custom function to create the \"decay_status\" column\n",
    "data['decay_status_kMc'] = data['kMc'].apply(get_decay_status)\n",
    "\n",
    "# Print the updated DataFrame\n",
    "data['decay_status_kMc'].value_counts()"
   ]
  },
  {
   "cell_type": "code",
   "execution_count": 8,
   "metadata": {},
   "outputs": [
    {
     "data": {
      "text/plain": [
       "decay_status_kMt\n",
       "decaying        6885\n",
       "not decaying    5049\n",
       "Name: count, dtype: int64"
      ]
     },
     "execution_count": 8,
     "metadata": {},
     "output_type": "execute_result"
    }
   ],
   "source": [
    "# Apply the custom function to create the \"decay_status\" column\n",
    "data['decay_status_kMt'] = data['kMt'].apply(get_decay_status)\n",
    "\n",
    "# Print the updated DataFrame\n",
    "data['decay_status_kMt'].value_counts()"
   ]
  },
  {
   "cell_type": "code",
   "execution_count": 9,
   "metadata": {},
   "outputs": [
    {
     "data": {
      "image/png": "[encoded data removed]",
      "text/plain": [
       "<Figure size 800x600 with 1 Axes>"
      ]
     },
     "metadata": {},
     "output_type": "display_data"
    }
   ],
   "source": [
    "import seaborn as sns\n",
    "import matplotlib.pyplot as plt\n",
    "\n",
    "# Distribution plot of 'kMc'\n",
    "plt.figure(figsize=(8, 6))\n",
    "sns.histplot(data['kMc'], bins=20, kde=True)\n",
    "plt.title('Distribution of kMc')\n",
    "plt.xlabel('kMc')\n",
    "plt.ylabel('Frequency')\n",
    "plt.show()\n",
    "\n",
    "# Create a pairplot grid\n",
    "sns.set(style=\"ticks\")\n",
    "#sns.pairplot(data, diag_kind='kde')\n",
    "#plt.suptitle('Pairplot of All Variables', y=1.02)\n",
    "#plt.show()"
   ]
  },
  {
   "cell_type": "markdown",
   "metadata": {},
   "source": [
    "### Training a simple MLP as a baseline to estimate compressor decay"
   ]
  },
  {
   "cell_type": "markdown",
   "metadata": {},
   "source": [
    "- Defining features and target\n",
    "- splitting data into train, validation and test data, while shuffling the dataset and keeping distribution"
   ]
  },
  {
   "cell_type": "code",
   "execution_count": 10,
   "metadata": {},
   "outputs": [],
   "source": [
    "import torch\n",
    "import torch.nn as nn\n",
    "import pandas as pd\n",
    "from sklearn.model_selection import train_test_split\n",
    "from sklearn.preprocessing import StandardScaler\n",
    "\n",
    "torch.manual_seed(0)\n",
    "\n",
    "# Split features and target\n",
    "features = data.drop(columns=['kMc'])\n",
    "target = data['kMc']\n",
    "\n",
    "# Split data into train, validation, and test sets\n",
    "train_size = 0.7\n",
    "val_size = 0.15\n",
    "test_size = 0.15\n",
    "\n",
    "X_train, X_temp, y_train, y_temp = train_test_split(features, target, test_size=1 - train_size, random_state=42, stratify=target, shuffle=True)\n",
    "X_val, X_test, y_val, y_test = train_test_split(X_temp, y_temp, test_size=test_size/(test_size + val_size), random_state=42, stratify=y_temp)"
   ]
  },
  {
   "cell_type": "markdown",
   "metadata": {},
   "source": [
    "- Checking for equal distribution between all three datasets"
   ]
  },
  {
   "cell_type": "code",
   "execution_count": 11,
   "metadata": {},
   "outputs": [
    {
     "data": {
      "text/plain": [
       "decay_status_kMc\n",
       "done            878\n",
       "decaying        525\n",
       "not decaying    387\n",
       "Name: count, dtype: int64"
      ]
     },
     "execution_count": 11,
     "metadata": {},
     "output_type": "execute_result"
    }
   ],
   "source": [
    "X_val.decay_status_kMc.value_counts()"
   ]
  },
  {
   "cell_type": "code",
   "execution_count": 12,
   "metadata": {},
   "outputs": [
    {
     "data": {
      "text/plain": [
       "decay_status_kMc\n",
       "done            4094\n",
       "decaying        2458\n",
       "not decaying    1801\n",
       "Name: count, dtype: int64"
      ]
     },
     "execution_count": 12,
     "metadata": {},
     "output_type": "execute_result"
    }
   ],
   "source": [
    "X_train.decay_status_kMc.value_counts()"
   ]
  },
  {
   "cell_type": "code",
   "execution_count": 13,
   "metadata": {},
   "outputs": [
    {
     "data": {
      "text/plain": [
       "decay_status_kMc\n",
       "done            878\n",
       "decaying        527\n",
       "not decaying    386\n",
       "Name: count, dtype: int64"
      ]
     },
     "execution_count": 13,
     "metadata": {},
     "output_type": "execute_result"
    }
   ],
   "source": [
    "X_test.decay_status_kMc.value_counts()"
   ]
  },
  {
   "cell_type": "code",
   "execution_count": 14,
   "metadata": {},
   "outputs": [],
   "source": [
    "X_train = X_train.drop(columns=['decay_status_kMc', 'decay_status_kMt'])\n",
    "X_val = X_val.drop(columns=['decay_status_kMc', 'decay_status_kMt'])\n",
    "X_test = X_test.drop(columns=['decay_status_kMc', 'decay_status_kMt'])"
   ]
  },
  {
   "cell_type": "code",
   "execution_count": 15,
   "metadata": {},
   "outputs": [],
   "source": [
    "# scale the input data for the neural network to improve convergence and speed up training\n",
    "scaler = StandardScaler()\n",
    "X_train_scaled = scaler.fit_transform(X_train)\n",
    "X_val_scaled = scaler.transform(X_val)\n",
    "X_test_scaled = scaler.transform(X_test)"
   ]
  },
  {
   "cell_type": "markdown",
   "metadata": {},
   "source": [
    "### Defining different MLPs\n",
    "- starting with a simple MLP to train a regression model"
   ]
  },
  {
   "cell_type": "code",
   "execution_count": 16,
   "metadata": {},
   "outputs": [],
   "source": [
    "class MLP(nn.Module):\n",
    "    def __init__(self, input_dim, hidden_dim, output_dim):\n",
    "        super(MLP, self).__init__()\n",
    "        self.fc1 = nn.Linear(input_dim, hidden_dim)\n",
    "        self.fc2 = nn.Linear(hidden_dim, output_dim)\n",
    "\n",
    "    def forward(self, x):\n",
    "        x = torch.relu(self.fc1(x))\n",
    "        x = self.fc2(x)\n",
    "        return x\n",
    "\n",
    "input_dim = X_train_scaled.shape[1]\n",
    "hidden_dim = 64  # Adjust this as needed\n",
    "output_dim = 1\n",
    "mlp_model = MLP(input_dim, hidden_dim, output_dim)"
   ]
  },
  {
   "cell_type": "code",
   "execution_count": 17,
   "metadata": {},
   "outputs": [],
   "source": [
    "criterion = nn.MSELoss()\n",
    "optimizer = torch.optim.Adam(mlp_model.parameters(), lr=0.001)"
   ]
  },
  {
   "cell_type": "code",
   "execution_count": 18,
   "metadata": {},
   "outputs": [],
   "source": [
    "X_val_tensor = torch.tensor(X_val_scaled, dtype=torch.float32)\n",
    "y_val_tensor = torch.tensor(y_val.values, dtype=torch.float32)"
   ]
  },
  {
   "cell_type": "code",
   "execution_count": 19,
   "metadata": {},
   "outputs": [],
   "source": [
    "num_epochs = 1000\n",
    "\n",
    "def train(model, epochs, X_train_scaled, y_train, X_val_tensor, y_val_tensor, lr=0.001, patience=10):\n",
    "    \n",
    "    criterion = nn.MSELoss()\n",
    "    optimizer = torch.optim.Adam(model.parameters(), lr=lr)\n",
    "    \n",
    "    best_loss = float('inf')\n",
    "    counter = 0\n",
    "    \n",
    "    inputs = torch.tensor(X_train_scaled, dtype=torch.float32)\n",
    "    targets = torch.tensor(y_train.values, dtype=torch.float32)\n",
    "\n",
    "    for epoch in range(epochs):\n",
    "        model.train()\n",
    "        optimizer.zero_grad()\n",
    "        outputs = model(inputs)\n",
    "        train_loss = criterion(outputs, targets)\n",
    "        train_loss.backward()\n",
    "        optimizer.step()\n",
    "\n",
    "        # Validation\n",
    "        model.eval()\n",
    "        with torch.no_grad():\n",
    "            y_val_pred = model(X_val_tensor).squeeze()\n",
    "            val_loss = criterion(y_val_pred, y_val_tensor)\n",
    "\n",
    "        if (epoch + 1) % 100 == 0:\n",
    "            print(f'Epoch [{epoch+1}/{epochs}], Train Loss: {train_loss.item():.4f}, Val Loss: {val_loss.item():.4f}')\n",
    "            \n",
    "        # keep count of training loss for early stopping\n",
    "        if train_loss < best_loss:\n",
    "            best_loss = train_loss\n",
    "            counter = 0\n",
    "        else:\n",
    "            counter += 1\n",
    "            \n",
    "        # check if early stopping criteria has been met\n",
    "        if counter >= patience:\n",
    "            print(\"Early stopping\")\n",
    "            break"
   ]
  },
  {
   "cell_type": "code",
   "execution_count": 42,
   "metadata": {
    "pycharm": {
     "is_executing": true
    }
   },
   "outputs": [
    {
     "name": "stderr",
     "output_type": "stream",
     "text": [
      "C:\\Users\\Luca\\miniconda3\\lib\\site-packages\\torch\\nn\\modules\\loss.py:536: UserWarning: Using a target size (torch.Size([8353])) that is different to the input size (torch.Size([8353, 1])). This will likely lead to incorrect results due to broadcasting. Please ensure they have the same size.\n",
      "  return F.mse_loss(input, target, reduction=self.reduction)\n"
     ]
    },
    {
     "name": "stdout",
     "output_type": "stream",
     "text": [
      "Epoch [100/1000], Train Loss: 0.0447, Val Loss: 0.0430\n",
      "Epoch [200/1000], Train Loss: 0.0040, Val Loss: 0.0040\n",
      "Epoch [300/1000], Train Loss: 0.0020, Val Loss: 0.0022\n",
      "Epoch [400/1000], Train Loss: 0.0013, Val Loss: 0.0014\n",
      "Epoch [500/1000], Train Loss: 0.0008, Val Loss: 0.0010\n",
      "Epoch [600/1000], Train Loss: 0.0006, Val Loss: 0.0008\n",
      "Epoch [700/1000], Train Loss: 0.0005, Val Loss: 0.0007\n",
      "Epoch [800/1000], Train Loss: 0.0004, Val Loss: 0.0007\n",
      "Epoch [900/1000], Train Loss: 0.0004, Val Loss: 0.0006\n",
      "Epoch [1000/1000], Train Loss: 0.0004, Val Loss: 0.0006\n"
     ]
    }
   ],
   "source": [
    "train(mlp_model, num_epochs, X_train_scaled, y_train, X_val_tensor, y_val_tensor)"
   ]
  },
  {
   "cell_type": "code",
   "execution_count": 20,
   "metadata": {
    "pycharm": {
     "is_executing": true
    }
   },
   "outputs": [],
   "source": [
    "def evaluate(model, X_test_scaled, y_test):\n",
    "\n",
    "    model.eval()\n",
    "    with torch.no_grad():\n",
    "        test_inputs = torch.tensor(X_test_scaled, dtype=torch.float32)\n",
    "        test_targets = torch.tensor(y_test.values, dtype=torch.float32)\n",
    "        test_outputs = model(test_inputs)\n",
    "\n",
    "    mae = nn.L1Loss()\n",
    "    mae = mae(test_outputs, test_targets)\n",
    "    mse_o = nn.MSELoss()\n",
    "    mse = mse_o(test_outputs, test_targets)\n",
    "    rmse = torch.sqrt(mse_o(test_outputs, test_targets))\n",
    "    print(f'Mean Absolute Error (MAE): {mae:.4f}')\n",
    "    print(f'Mean Squared Error (MSE): {mse:.4f}')\n",
    "    print(f'Root Mean Squared Error (RMSE): {rmse:.4f}')"
   ]
  },
  {
   "cell_type": "code",
   "execution_count": 44,
   "metadata": {
    "pycharm": {
     "is_executing": true
    }
   },
   "outputs": [
    {
     "name": "stdout",
     "output_type": "stream",
     "text": [
      "Mean Absolute Error (MAE): 0.0159\n",
      "Mean Squared Error (MSE): 0.0004\n",
      "Root Mean Squared Error (RMSE): 0.0195\n"
     ]
    },
    {
     "name": "stderr",
     "output_type": "stream",
     "text": [
      "C:\\Users\\Luca\\miniconda3\\lib\\site-packages\\torch\\nn\\modules\\loss.py:101: UserWarning: Using a target size (torch.Size([1791])) that is different to the input size (torch.Size([1791, 1])). This will likely lead to incorrect results due to broadcasting. Please ensure they have the same size.\n",
      "  return F.l1_loss(input, target, reduction=self.reduction)\n",
      "C:\\Users\\Luca\\miniconda3\\lib\\site-packages\\torch\\nn\\modules\\loss.py:536: UserWarning: Using a target size (torch.Size([1791])) that is different to the input size (torch.Size([1791, 1])). This will likely lead to incorrect results due to broadcasting. Please ensure they have the same size.\n",
      "  return F.mse_loss(input, target, reduction=self.reduction)\n"
     ]
    }
   ],
   "source": [
    "evaluate(mlp_model, X_test_scaled, y_test)"
   ]
  },
  {
   "cell_type": "code",
   "execution_count": 45,
   "metadata": {
    "pycharm": {
     "is_executing": true
    }
   },
   "outputs": [
    {
     "data": {
      "text/html": [
       "<div>\n",
       "<style scoped>\n",
       "    .dataframe tbody tr th:only-of-type {\n",
       "        vertical-align: middle;\n",
       "    }\n",
       "\n",
       "    .dataframe tbody tr th {\n",
       "        vertical-align: top;\n",
       "    }\n",
       "\n",
       "    .dataframe thead th {\n",
       "        text-align: right;\n",
       "    }\n",
       "</style>\n",
       "<table border=\"1\" class=\"dataframe\">\n",
       "  <thead>\n",
       "    <tr style=\"text-align: right;\">\n",
       "      <th></th>\n",
       "      <th>target</th>\n",
       "      <th>prediction</th>\n",
       "      <th>decay_status_kMc_target</th>\n",
       "      <th>decay_status_kMc_pred</th>\n",
       "    </tr>\n",
       "  </thead>\n",
       "  <tbody>\n",
       "    <tr>\n",
       "      <th>0</th>\n",
       "      <td>0.999</td>\n",
       "      <td>0.963233</td>\n",
       "      <td>not decaying</td>\n",
       "      <td>done</td>\n",
       "    </tr>\n",
       "    <tr>\n",
       "      <th>1</th>\n",
       "      <td>0.963</td>\n",
       "      <td>0.958043</td>\n",
       "      <td>done</td>\n",
       "      <td>done</td>\n",
       "    </tr>\n",
       "    <tr>\n",
       "      <th>2</th>\n",
       "      <td>0.955</td>\n",
       "      <td>0.957175</td>\n",
       "      <td>done</td>\n",
       "      <td>done</td>\n",
       "    </tr>\n",
       "    <tr>\n",
       "      <th>3</th>\n",
       "      <td>0.952</td>\n",
       "      <td>0.968837</td>\n",
       "      <td>done</td>\n",
       "      <td>done</td>\n",
       "    </tr>\n",
       "    <tr>\n",
       "      <th>4</th>\n",
       "      <td>0.978</td>\n",
       "      <td>0.970015</td>\n",
       "      <td>decaying</td>\n",
       "      <td>done</td>\n",
       "    </tr>\n",
       "  </tbody>\n",
       "</table>\n",
       "</div>"
      ],
      "text/plain": [
       "   target  prediction decay_status_kMc_target decay_status_kMc_pred\n",
       "0   0.999    0.963233            not decaying                  done\n",
       "1   0.963    0.958043                    done                  done\n",
       "2   0.955    0.957175                    done                  done\n",
       "3   0.952    0.968837                    done                  done\n",
       "4   0.978    0.970015                decaying                  done"
      ]
     },
     "execution_count": 45,
     "metadata": {},
     "output_type": "execute_result"
    }
   ],
   "source": [
    "test_inputs = torch.tensor(X_test_scaled, dtype=torch.float32)\n",
    "test_outputs = mlp_model(test_inputs)\n",
    "eval_df = pd.DataFrame({'target': y_test.tolist(), 'prediction': [value.item() for value in test_outputs]})\n",
    "eval_df['decay_status_kMc_target'] = eval_df['target'].apply(get_decay_status)\n",
    "eval_df['decay_status_kMc_pred'] = eval_df['prediction'].apply(get_decay_status)\n",
    "\n",
    "eval_df.head()"
   ]
  },
  {
   "cell_type": "code",
   "execution_count": 46,
   "metadata": {
    "pycharm": {
     "is_executing": true
    }
   },
   "outputs": [
    {
     "name": "stderr",
     "output_type": "stream",
     "text": [
      "C:\\Users\\Luca\\miniconda3\\lib\\site-packages\\sklearn\\metrics\\_classification.py:1469: UndefinedMetricWarning: Recall is ill-defined and being set to 0.0 in labels with no true samples. Use `zero_division` parameter to control this behavior.\n",
      "  _warn_prf(average, modifier, msg_start, len(result))\n"
     ]
    },
    {
     "name": "stdout",
     "output_type": "stream",
     "text": [
      "Accuracy: 0.2803\n",
      "Recall: 0.2803\n",
      "Precision: 0.2600\n",
      "F1-score: 0.2655\n"
     ]
    }
   ],
   "source": [
    "from sklearn.metrics import accuracy_score, recall_score, precision_score, f1_score, roc_auc_score\n",
    "\n",
    "y_true = eval_df['decay_status_kMc_target']\n",
    "y_pred = eval_df['decay_status_kMc_pred']\n",
    "\n",
    "# Calculate metrics\n",
    "accuracy = accuracy_score(y_true, y_pred)\n",
    "recall = recall_score(y_true, y_pred, average='weighted')\n",
    "precision = precision_score(y_true, y_pred, average='weighted')\n",
    "f1 = f1_score(y_true, y_pred, average='weighted')\n",
    "\n",
    "# Print the metrics\n",
    "print(f'Accuracy: {accuracy:.4f}')\n",
    "print(f'Recall: {recall:.4f}')\n",
    "print(f'Precision: {precision:.4f}')\n",
    "print(f'F1-score: {f1:.4f}')"
   ]
  },
  {
   "cell_type": "markdown",
   "metadata": {},
   "source": [
    "### Another MLP"
   ]
  },
  {
   "cell_type": "code",
   "execution_count": 67,
   "metadata": {},
   "outputs": [],
   "source": [
    "class MLP2(nn.Module):\n",
    "    def __init__(self, input_dim, hidden_dim1, hidden_dim2, hidden_dim3, output_dim):\n",
    "        super(MLP2, self).__init__()\n",
    "        self.fc1 = nn.Linear(input_dim, hidden_dim1)\n",
    "        self.fc2 = nn.Linear(hidden_dim1, hidden_dim2)\n",
    "        self.fc3 = nn.Linear(hidden_dim2, hidden_dim3)\n",
    "        self.fc4 = nn.Linear(hidden_dim3, output_dim)\n",
    "        \n",
    "    def forward(self, x):\n",
    "        x = torch.relu(self.fc1(x))\n",
    "        x = torch.relu(self.fc2(x))\n",
    "        x = torch.relu(self.fc3(x))\n",
    "        x = self.fc4(x)\n",
    "        return x"
   ]
  },
  {
   "cell_type": "code",
   "execution_count": 83,
   "metadata": {},
   "outputs": [
    {
     "name": "stdout",
     "output_type": "stream",
     "text": [
      "Epoch [100/1000], Train Loss: 0.0912, Val Loss: 0.0885\n",
      "Epoch [200/1000], Train Loss: 0.0033, Val Loss: 0.0031\n",
      "Epoch [300/1000], Train Loss: 0.0011, Val Loss: 0.0012\n",
      "Epoch [400/1000], Train Loss: 0.0007, Val Loss: 0.0008\n",
      "Epoch [500/1000], Train Loss: 0.0006, Val Loss: 0.0007\n",
      "Epoch [600/1000], Train Loss: 0.0005, Val Loss: 0.0006\n",
      "Epoch [700/1000], Train Loss: 0.0004, Val Loss: 0.0005\n",
      "Epoch [800/1000], Train Loss: 0.0004, Val Loss: 0.0005\n",
      "Epoch [900/1000], Train Loss: 0.0003, Val Loss: 0.0004\n",
      "Epoch [1000/1000], Train Loss: 0.0003, Val Loss: 0.0004\n",
      "Epoch [1100/1000], Train Loss: 0.0003, Val Loss: 0.0004\n",
      "Epoch [1200/1000], Train Loss: 0.0003, Val Loss: 0.0004\n",
      "Epoch [1300/1000], Train Loss: 0.0003, Val Loss: 0.0004\n",
      "Epoch [1400/1000], Train Loss: 0.0003, Val Loss: 0.0003\n",
      "Epoch [1500/1000], Train Loss: 0.0003, Val Loss: 0.0003\n",
      "Epoch [1600/1000], Train Loss: 0.0002, Val Loss: 0.0003\n",
      "Epoch [1700/1000], Train Loss: 0.0002, Val Loss: 0.0003\n",
      "Epoch [1800/1000], Train Loss: 0.0002, Val Loss: 0.0003\n",
      "Epoch [1900/1000], Train Loss: 0.0002, Val Loss: 0.0003\n",
      "Epoch [2000/1000], Train Loss: 0.0002, Val Loss: 0.0003\n",
      "Epoch [2100/1000], Train Loss: 0.0002, Val Loss: 0.0003\n",
      "Epoch [2200/1000], Train Loss: 0.0002, Val Loss: 0.0003\n",
      "Epoch [2300/1000], Train Loss: 0.0002, Val Loss: 0.0003\n",
      "Epoch [2400/1000], Train Loss: 0.0002, Val Loss: 0.0003\n",
      "Epoch [2500/1000], Train Loss: 0.0002, Val Loss: 0.0003\n",
      "Epoch [2600/1000], Train Loss: 0.0002, Val Loss: 0.0003\n",
      "Epoch [2700/1000], Train Loss: 0.0002, Val Loss: 0.0002\n",
      "Epoch [2800/1000], Train Loss: 0.0002, Val Loss: 0.0002\n",
      "Epoch [2900/1000], Train Loss: 0.0002, Val Loss: 0.0002\n",
      "Epoch [3000/1000], Train Loss: 0.0002, Val Loss: 0.0002\n",
      "Epoch [3100/1000], Train Loss: 0.0002, Val Loss: 0.0002\n",
      "Epoch [3200/1000], Train Loss: 0.0002, Val Loss: 0.0002\n",
      "Epoch [3300/1000], Train Loss: 0.0002, Val Loss: 0.0002\n",
      "Epoch [3400/1000], Train Loss: 0.0002, Val Loss: 0.0002\n",
      "Epoch [3500/1000], Train Loss: 0.0002, Val Loss: 0.0002\n",
      "Epoch [3600/1000], Train Loss: 0.0002, Val Loss: 0.0002\n",
      "Epoch [3700/1000], Train Loss: 0.0002, Val Loss: 0.0002\n",
      "Epoch [3800/1000], Train Loss: 0.0002, Val Loss: 0.0002\n",
      "Epoch [3900/1000], Train Loss: 0.0002, Val Loss: 0.0002\n",
      "Epoch [4000/1000], Train Loss: 0.0002, Val Loss: 0.0002\n",
      "Epoch [4100/1000], Train Loss: 0.0002, Val Loss: 0.0002\n",
      "Epoch [4200/1000], Train Loss: 0.0002, Val Loss: 0.0002\n",
      "Epoch [4300/1000], Train Loss: 0.0002, Val Loss: 0.0002\n",
      "Epoch [4400/1000], Train Loss: 0.0002, Val Loss: 0.0002\n",
      "Epoch [4500/1000], Train Loss: 0.0002, Val Loss: 0.0002\n",
      "Epoch [4600/1000], Train Loss: 0.0002, Val Loss: 0.0002\n",
      "Epoch [4700/1000], Train Loss: 0.0002, Val Loss: 0.0002\n",
      "Epoch [4800/1000], Train Loss: 0.0002, Val Loss: 0.0002\n",
      "Epoch [4900/1000], Train Loss: 0.0002, Val Loss: 0.0002\n",
      "Epoch [5000/1000], Train Loss: 0.0002, Val Loss: 0.0002\n"
     ]
    }
   ],
   "source": [
    "input_dim = X_train_scaled.shape[1]\n",
    "hidden_dim1 = 24\n",
    "hidden_dim2 = 12\n",
    "hidden_dim3 = 6\n",
    "output_dim = 1\n",
    "\n",
    "mlp2_model = MLP2(input_dim, hidden_dim1, hidden_dim2, hidden_dim3, output_dim)\n",
    "train(mlp2_model, 5000, X_train_scaled, y_train, X_val_tensor, y_val_tensor)"
   ]
  },
  {
   "cell_type": "code",
   "execution_count": 34,
   "metadata": {},
   "outputs": [
    {
     "ename": "NameError",
     "evalue": "name 'mlp2_model' is not defined",
     "output_type": "error",
     "traceback": [
      "\u001B[1;31m---------------------------------------------------------------------------\u001B[0m",
      "\u001B[1;31mNameError\u001B[0m                                 Traceback (most recent call last)",
      "Cell \u001B[1;32mIn[34], line 1\u001B[0m\n\u001B[1;32m----> 1\u001B[0m evaluate(\u001B[43mmlp2_model\u001B[49m, X_test_scaled, y_test)\n",
      "\u001B[1;31mNameError\u001B[0m: name 'mlp2_model' is not defined"
     ]
    }
   ],
   "source": [
    "evaluate(mlp2_model, X_test_scaled, y_test)"
   ]
  },
  {
   "cell_type": "markdown",
   "metadata": {},
   "source": [
    "### MLP3"
   ]
  },
  {
   "cell_type": "markdown",
   "metadata": {},
   "source": [
    "- just increasing the size of the hidden layers does not work\n",
    "- adding an additional layer helps to converge faster, but without better results\n",
    "    - the bigger the network, the faster the convergence (early stopping is applied), but without better results on the test set\n",
    "- the RMSE is the same on the training, validation and test set, so overfitting isn't a problem (yet), is it?\n",
    "    - so early stopping based on the training loss shouln't be an issue right now, right?\n",
    "- increasing the learning rate to 0.01 leads to instant early stopping and underfitting\n",
    "- increasing the learning rate to 0.005 leads to way faster convergence with early stopping after ca. 400 epochs, but with similar performance on all datasets\n",
    "\n",
    "ToDo:\n",
    "- further increase network size\n",
    "- experiment with learning rate and batch size\n",
    "\n",
    "Question:\n",
    "- are there other neural network types suitable for this problem?\n",
    "    - LSTM, attention and CNN are not suitable imo"
   ]
  },
  {
   "cell_type": "code",
   "execution_count": 41,
   "metadata": {},
   "outputs": [],
   "source": [
    "class MLP3(nn.Module):\n",
    "    def __init__(self, input_dim, hidden_dim1, hidden_dim2, hidden_dim3, hidden_dim4, hidden_dim5, output_dim):\n",
    "        super(MLP3, self).__init__()\n",
    "        self.fc1 = nn.Linear(input_dim, hidden_dim1)\n",
    "        self.fc2 = nn.Linear(hidden_dim1, hidden_dim2)\n",
    "        self.fc3 = nn.Linear(hidden_dim2, hidden_dim3)\n",
    "        self.fc4 = nn.Linear(hidden_dim3, hidden_dim4)\n",
    "        self.fc5 = nn.Linear(hidden_dim4, hidden_dim5)\n",
    "        self.fc6 = nn.Linear(hidden_dim5, output_dim)\n",
    "        \n",
    "    def forward(self, x):\n",
    "        x = torch.relu(self.fc1(x))\n",
    "        x = torch.relu(self.fc2(x))\n",
    "        x = torch.relu(self.fc3(x))\n",
    "        x = torch.relu(self.fc4(x))\n",
    "        x = torch.relu(self.fc5(x))\n",
    "        x = self.fc6(x)\n",
    "        return x"
   ]
  },
  {
   "cell_type": "code",
   "execution_count": 44,
   "metadata": {},
   "outputs": [
    {
     "name": "stdout",
     "output_type": "stream",
     "text": [
      "Epoch [100/5000], Train Loss: 0.0003, Val Loss: 0.0004\n",
      "Epoch [200/5000], Train Loss: 0.0002, Val Loss: 0.0003\n",
      "Epoch [300/5000], Train Loss: 0.0002, Val Loss: 0.0003\n",
      "Epoch [400/5000], Train Loss: 0.0002, Val Loss: 0.0002\n",
      "Epoch [500/5000], Train Loss: 0.0002, Val Loss: 0.0002\n",
      "Epoch [600/5000], Train Loss: 0.0002, Val Loss: 0.0002\n",
      "Epoch [700/5000], Train Loss: 0.0002, Val Loss: 0.0002\n",
      "Epoch [800/5000], Train Loss: 0.0002, Val Loss: 0.0002\n",
      "Epoch [900/5000], Train Loss: 0.0002, Val Loss: 0.0002\n",
      "Epoch [1000/5000], Train Loss: 0.0002, Val Loss: 0.0002\n",
      "Early stopping\n"
     ]
    }
   ],
   "source": [
    "input_dim = X_train_scaled.shape[1]\n",
    "hidden_dim1 = 192\n",
    "hidden_dim2 = 288\n",
    "hidden_dim3 = 192\n",
    "hidden_dim4 = 96\n",
    "hidden_dim5 = 24\n",
    "output_dim = 1\n",
    "\n",
    "mlp3_model = MLP3(input_dim, hidden_dim1, hidden_dim2, hidden_dim3, hidden_dim4, hidden_dim5, output_dim)\n",
    "train(mlp3_model, 5000, X_train_scaled, y_train, X_val_tensor, y_val_tensor, lr=0.005)"
   ]
  },
  {
   "cell_type": "code",
   "execution_count": 45,
   "metadata": {},
   "outputs": [
    {
     "name": "stdout",
     "output_type": "stream",
     "text": [
      "Mean Absolute Error (MAE): 0.0128\n",
      "Mean Squared Error (MSE): 0.0002\n",
      "Root Mean Squared Error (RMSE): 0.0148\n"
     ]
    }
   ],
   "source": [
    "evaluate(mlp3_model, X_test_scaled, y_test)"
   ]
  },
  {
   "cell_type": "markdown",
   "metadata": {},
   "source": [
    "### XGBoostRegressor"
   ]
  },
  {
   "cell_type": "code",
   "execution_count": 110,
   "metadata": {},
   "outputs": [
    {
     "name": "stdout",
     "output_type": "stream",
     "text": [
      "Mean Absolute Error: 0.0029602187\n",
      "Mean Squared Error: 0.0039781134\n",
      "Root Mean Squared Error: 0.0000158254\n"
     ]
    }
   ],
   "source": [
    "import xgboost as xgb\n",
    "from sklearn.metrics import mean_absolute_error, mean_squared_error\n",
    "\n",
    "# Create an XGBRegressor model\n",
    "xgb_model = xgb.XGBRegressor(\n",
    "    n_estimators=100,  # Number of boosting rounds\n",
    "    learning_rate=0.1,  # Learning rate\n",
    "    max_depth=3,  # Maximum depth of each tree\n",
    "    objective='reg:squarederror',  # Regression task\n",
    "    random_state=42\n",
    ")\n",
    "\n",
    "# Train the model on the training data\n",
    "xgb_model.fit(X_train_scaled, y_train)\n",
    "\n",
    "# Predict the target variable on the test data\n",
    "y_pred = xgb_model.predict(X_test_scaled)\n",
    "\n",
    "# Calculate Mean Squared Error (MSE) as a performance metric\n",
    "mae = mean_absolute_error(y_test, y_pred)\n",
    "mse = mean_squared_error(y_test, y_pred, squared=False)\n",
    "rmse = mean_squared_error(y_test, y_pred, squared=True)\n",
    "\n",
    "print(\"Mean Absolute Error:\", \"{:.10f}\".format(mae))\n",
    "print(\"Mean Squared Error:\", \"{:.10f}\".format(mse))\n",
    "print(\"Root Mean Squared Error:\", \"{:.10f}\".format(rmse))"
   ]
  }
 ],
 "metadata": {
  "kernelspec": {
   "display_name": "Python 3 (ipykernel)",
   "language": "python",
   "name": "python3"
  },
  "language_info": {
   "codemirror_mode": {
    "name": "ipython",
    "version": 3
   },
   "file_extension": ".py",
   "mimetype": "text/x-python",
   "name": "python",
   "nbconvert_exporter": "python",
   "pygments_lexer": "ipython3",
   "version": "3.10.10"
  }
 },
 "nbformat": 4,
 "nbformat_minor": 1
}